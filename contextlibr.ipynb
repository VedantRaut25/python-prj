{
  "metadata": {
    "kernelspec": {
      "name": "python",
      "display_name": "Python (Pyodide)",
      "language": "python"
    },
    "language_info": {
      "codemirror_mode": {
        "name": "python",
        "version": 3
      },
      "file_extension": ".py",
      "mimetype": "text/x-python",
      "name": "python",
      "nbconvert_exporter": "python",
      "pygments_lexer": "ipython3",
      "version": "3.8"
    }
  },
  "nbformat_minor": 5,
  "nbformat": 4,
  "cells": [
    {
      "id": "0effafb5-1d20-452c-9d94-1b91ebe744fa",
      "cell_type": "code",
      "source": "from contextlib import contextmanager\n\n@contextmanager\ndef genericFileFunction(filename, method):\n    print('Enter Method')\n    file = open(filename, method)\n    yield file\n    file.close()\n    print('Exit')\n\nif __name__ == '__main__':\n    with genericFileFunction('./file.txt', 'w') as f:\n        print('Middle - Writing')\n        f.write('hellooo\\n')\n\n    with genericFileFunction('./file.txt', 'r') as f:\n        print('Middle - Reading')\n        content = f.read()\n        print('File content:', content)\n\n    with genericFileFunction('./file.txt', 'a') as f:\n        print('Middle - Appending')\n        f.write('Hello again!')\n\n    with genericFileFunction('./file.txt', 'r') as f:\n        print('Middle - Reading after append')\n        content = f.read()\n        print('File content after append:', content)\n",
      "metadata": {
        "trusted": true
      },
      "outputs": [
        {
          "name": "stdout",
          "output_type": "stream",
          "text": "Enter Method\nMiddle - Writing\nExit\nEnter Method\nMiddle - Reading\nFile content: hellooo\n\nExit\nEnter Method\nMiddle - Appending\nExit\nEnter Method\nMiddle - Reading after append\nFile content after append: hellooo\nHello again!\nExit\n"
        }
      ],
      "execution_count": 1
    },
    {
      "id": "2f2a15fb-00f3-48fa-b5d1-d34f41b46483",
      "cell_type": "code",
      "source": "",
      "metadata": {
        "trusted": true
      },
      "outputs": [],
      "execution_count": null
    },
    {
      "id": "e1db254c-180d-4ea2-a8d5-254f9f1e771a",
      "cell_type": "code",
      "source": "",
      "metadata": {
        "trusted": true
      },
      "outputs": [],
      "execution_count": null
    }
  ]
}