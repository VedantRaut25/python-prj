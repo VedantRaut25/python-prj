{
  "nbformat": 4,
  "nbformat_minor": 0,
  "metadata": {
    "colab": {
      "provenance": []
    },
    "kernelspec": {
      "name": "python3",
      "display_name": "Python 3"
    },
    "language_info": {
      "name": "python"
    }
  },
  "cells": [
    {
      "cell_type": "code",
      "execution_count": null,
      "metadata": {
        "id": "789CqpVparrw"
      },
      "outputs": [],
      "source": [
        "import numpy as np"
      ]
    },
    {
      "cell_type": "code",
      "source": [
        "# 1. Array Creation Techniques\n",
        "print(\"1. Array Creation Techniques\")"
      ],
      "metadata": {
        "colab": {
          "base_uri": "https://localhost:8080/"
        },
        "id": "ILFNgnKSawHl",
        "outputId": "e6e687f9-6082-49ea-df5c-ddb9bd08ed70"
      },
      "execution_count": null,
      "outputs": [
        {
          "output_type": "stream",
          "name": "stdout",
          "text": [
            "1. Array Creation Techniques\n"
          ]
        }
      ]
    },
    {
      "cell_type": "code",
      "source": [
        "# a. Creating an array from a list\n",
        "array_from_list = np.array([1, 2, 3, 4, 5])\n",
        "array_from_list"
      ],
      "metadata": {
        "colab": {
          "base_uri": "https://localhost:8080/"
        },
        "id": "HdjtLPOHbHHN",
        "outputId": "3518eb75-9d62-4b89-c8bb-8846d941936b"
      },
      "execution_count": null,
      "outputs": [
        {
          "output_type": "execute_result",
          "data": {
            "text/plain": [
              "array([1, 2, 3, 4, 5])"
            ]
          },
          "metadata": {},
          "execution_count": 3
        }
      ]
    },
    {
      "cell_type": "code",
      "source": [
        "# b. Using arange()\n",
        "array_arange = np.arange(0, 10, 2)\n",
        "array_arange"
      ],
      "metadata": {
        "colab": {
          "base_uri": "https://localhost:8080/"
        },
        "id": "U7fyN137bJkU",
        "outputId": "f54d35a1-bbca-424e-e0b9-55b079cc0658"
      },
      "execution_count": null,
      "outputs": [
        {
          "output_type": "execute_result",
          "data": {
            "text/plain": [
              "array([0, 2, 4, 6, 8])"
            ]
          },
          "metadata": {},
          "execution_count": 4
        }
      ]
    },
    {
      "cell_type": "code",
      "source": [
        "# c. Using linspace()\n",
        "array_linspace = np.linspace(0, 10, 5)  # Divides 0 to 10 into 5 points\n",
        "array_linspace"
      ],
      "metadata": {
        "colab": {
          "base_uri": "https://localhost:8080/"
        },
        "id": "FZKJkSEMc77U",
        "outputId": "acff0756-709b-4d39-88e7-04c427280979"
      },
      "execution_count": null,
      "outputs": [
        {
          "output_type": "execute_result",
          "data": {
            "text/plain": [
              "array([ 0. ,  2.5,  5. ,  7.5, 10. ])"
            ]
          },
          "metadata": {},
          "execution_count": 5
        }
      ]
    },
    {
      "cell_type": "code",
      "source": [
        "# d. Using zeros()\n",
        "array_zeros = np.zeros((3, 3))\n",
        "array_zeros"
      ],
      "metadata": {
        "colab": {
          "base_uri": "https://localhost:8080/"
        },
        "id": "D1VtEzU0c9-V",
        "outputId": "2e84a4cb-6bcc-43b4-a0e3-fde4cbb90c6b"
      },
      "execution_count": null,
      "outputs": [
        {
          "output_type": "execute_result",
          "data": {
            "text/plain": [
              "array([[0., 0., 0.],\n",
              "       [0., 0., 0.],\n",
              "       [0., 0., 0.]])"
            ]
          },
          "metadata": {},
          "execution_count": 6
        }
      ]
    },
    {
      "cell_type": "code",
      "source": [
        "# e. Using ones()\n",
        "array_ones = np.ones((2, 2))\n",
        "array_ones"
      ],
      "metadata": {
        "colab": {
          "base_uri": "https://localhost:8080/"
        },
        "id": "Z1P0EROtc_wk",
        "outputId": "ef41cf1c-13fa-472f-dd70-a30bdceb677e"
      },
      "execution_count": null,
      "outputs": [
        {
          "output_type": "execute_result",
          "data": {
            "text/plain": [
              "array([[1., 1.],\n",
              "       [1., 1.]])"
            ]
          },
          "metadata": {},
          "execution_count": 7
        }
      ]
    },
    {
      "cell_type": "code",
      "source": [
        "# f. Using eye() for identity matrix\n",
        "array_eye = np.eye(3)\n",
        "array_eye"
      ],
      "metadata": {
        "colab": {
          "base_uri": "https://localhost:8080/"
        },
        "id": "wUhElyEQdJ8E",
        "outputId": "f5acdd91-f23c-4dfe-a55c-4f59be992a5d"
      },
      "execution_count": null,
      "outputs": [
        {
          "output_type": "execute_result",
          "data": {
            "text/plain": [
              "array([[1., 0., 0.],\n",
              "       [0., 1., 0.],\n",
              "       [0., 0., 1.]])"
            ]
          },
          "metadata": {},
          "execution_count": 8
        }
      ]
    },
    {
      "cell_type": "code",
      "source": [
        "# g. Using random() for random values\n",
        "array_random = np.random.random((3, 3))\n",
        "array_random"
      ],
      "metadata": {
        "colab": {
          "base_uri": "https://localhost:8080/"
        },
        "id": "Yaj7PDc1dML8",
        "outputId": "7cbe1780-73b1-4e80-91ae-302a975c4740"
      },
      "execution_count": null,
      "outputs": [
        {
          "output_type": "execute_result",
          "data": {
            "text/plain": [
              "array([[0.3194049 , 0.85750703, 0.48372929],\n",
              "       [0.48591783, 0.04850303, 0.60685535],\n",
              "       [0.6652718 , 0.3319404 , 0.65096444]])"
            ]
          },
          "metadata": {},
          "execution_count": 9
        }
      ]
    },
    {
      "cell_type": "code",
      "source": [
        "# 2. Different NumPy Methods\n",
        "print(\"\\n2. NumPy Methods\")"
      ],
      "metadata": {
        "colab": {
          "base_uri": "https://localhost:8080/"
        },
        "id": "x7QyOGBzdOSM",
        "outputId": "dfa7beab-6c03-4374-c89e-d6082550f944"
      },
      "execution_count": null,
      "outputs": [
        {
          "output_type": "stream",
          "name": "stdout",
          "text": [
            "\n",
            "2. NumPy Methods\n"
          ]
        }
      ]
    },
    {
      "cell_type": "code",
      "source": [
        "# a. Reshaping an array\n",
        "reshaped_array = np.arange(1, 10).reshape(3, 3)\n",
        "reshaped_array"
      ],
      "metadata": {
        "colab": {
          "base_uri": "https://localhost:8080/"
        },
        "id": "bOGDTecTdQM0",
        "outputId": "ebe97223-d917-41cc-a389-5dca67ac9144"
      },
      "execution_count": null,
      "outputs": [
        {
          "output_type": "execute_result",
          "data": {
            "text/plain": [
              "array([[1, 2, 3],\n",
              "       [4, 5, 6],\n",
              "       [7, 8, 9]])"
            ]
          },
          "metadata": {},
          "execution_count": 11
        }
      ]
    },
    {
      "cell_type": "code",
      "source": [
        "# b. Transposing an array\n",
        "transposed_array = reshaped_array.T\n",
        "transposed_array"
      ],
      "metadata": {
        "colab": {
          "base_uri": "https://localhost:8080/"
        },
        "id": "WO7a-kHkdRw8",
        "outputId": "e2115acc-c2c6-4314-a536-08e475d7c8a4"
      },
      "execution_count": null,
      "outputs": [
        {
          "output_type": "execute_result",
          "data": {
            "text/plain": [
              "array([[1, 4, 7],\n",
              "       [2, 5, 8],\n",
              "       [3, 6, 9]])"
            ]
          },
          "metadata": {},
          "execution_count": 12
        }
      ]
    },
    {
      "cell_type": "code",
      "source": [
        "# c. Mathematical operations\n",
        "array_math = np.array([1, 2, 3])\n",
        "array_math + 2\n",
        "array_math * 3\n",
        "np.sqrt(array_math)"
      ],
      "metadata": {
        "colab": {
          "base_uri": "https://localhost:8080/"
        },
        "id": "vSmTxB2UdUL8",
        "outputId": "d66857b2-6402-4a27-fb1e-e1bcca47c977"
      },
      "execution_count": null,
      "outputs": [
        {
          "output_type": "execute_result",
          "data": {
            "text/plain": [
              "array([1.        , 1.41421356, 1.73205081])"
            ]
          },
          "metadata": {},
          "execution_count": 13
        }
      ]
    },
    {
      "cell_type": "code",
      "source": [
        "# d. Aggregation methods\n",
        "np.sum(array_math)\n",
        "np.mean(array_math)\n",
        "np.max(array_math)\n",
        "np.min(array_math)"
      ],
      "metadata": {
        "colab": {
          "base_uri": "https://localhost:8080/"
        },
        "id": "iDR5GCKWdVyk",
        "outputId": "8e8fdf50-fa46-4792-ed8e-2da0e80ff8b3"
      },
      "execution_count": null,
      "outputs": [
        {
          "output_type": "execute_result",
          "data": {
            "text/plain": [
              "np.int64(1)"
            ]
          },
          "metadata": {},
          "execution_count": 14
        }
      ]
    },
    {
      "cell_type": "code",
      "source": [
        "# e. Concatenation of arrays\n",
        "array_a = np.array([1, 2, 3])\n",
        "array_b = np.array([4, 5, 6])\n",
        "concat_array = np.concatenate((array_a, array_b))\n",
        "concat_array"
      ],
      "metadata": {
        "colab": {
          "base_uri": "https://localhost:8080/"
        },
        "id": "w1ZBkM-edXS0",
        "outputId": "94e68bcb-dec0-48c7-c6e7-4676d14620d8"
      },
      "execution_count": null,
      "outputs": [
        {
          "output_type": "execute_result",
          "data": {
            "text/plain": [
              "array([1, 2, 3, 4, 5, 6])"
            ]
          },
          "metadata": {},
          "execution_count": 15
        }
      ]
    },
    {
      "cell_type": "code",
      "source": [
        "# f. Sorting an array\n",
        "unsorted_array = np.array([3, 1, 4, 2])\n",
        "sorted_array = np.sort(unsorted_array)\n",
        "sorted_array"
      ],
      "metadata": {
        "colab": {
          "base_uri": "https://localhost:8080/"
        },
        "id": "JE3fqzzFdfLU",
        "outputId": "f6a7258e-275a-4aef-9c78-a0c4b074163d"
      },
      "execution_count": null,
      "outputs": [
        {
          "output_type": "execute_result",
          "data": {
            "text/plain": [
              "array([1, 2, 3, 4])"
            ]
          },
          "metadata": {},
          "execution_count": 16
        }
      ]
    },
    {
      "cell_type": "code",
      "source": [
        "# g. Indexing and Slicing\n",
        "indexed_value = array_math[1]  # Indexing\n",
        "indexed_value\n",
        "sliced_array = array_math[1:3]  # Slicing\n",
        "sliced_array"
      ],
      "metadata": {
        "colab": {
          "base_uri": "https://localhost:8080/"
        },
        "id": "j3mQWKRcdhD8",
        "outputId": "efddef0a-5825-421b-b198-fe0b262468fd"
      },
      "execution_count": null,
      "outputs": [
        {
          "output_type": "execute_result",
          "data": {
            "text/plain": [
              "array([2, 3])"
            ]
          },
          "metadata": {},
          "execution_count": 17
        }
      ]
    },
    {
      "cell_type": "code",
      "source": [
        "# h. Boolean Masking\n",
        "boolean_mask = array_math > 2\n",
        "boolean_mask\n",
        "array_math[boolean_mask]"
      ],
      "metadata": {
        "colab": {
          "base_uri": "https://localhost:8080/"
        },
        "id": "bWHhVM3ndjNN",
        "outputId": "98d81792-3e39-4239-a6d2-1fc7daaeaa02"
      },
      "execution_count": null,
      "outputs": [
        {
          "output_type": "execute_result",
          "data": {
            "text/plain": [
              "array([3])"
            ]
          },
          "metadata": {},
          "execution_count": 18
        }
      ]
    }
  ]
}