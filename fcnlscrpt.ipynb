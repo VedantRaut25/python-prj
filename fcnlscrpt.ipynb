{
  "metadata": {
    "kernelspec": {
      "name": "python",
      "display_name": "Python (Pyodide)",
      "language": "python"
    },
    "language_info": {
      "codemirror_mode": {
        "name": "python",
        "version": 3
      },
      "file_extension": ".py",
      "mimetype": "text/x-python",
      "name": "python",
      "nbconvert_exporter": "python",
      "pygments_lexer": "ipython3",
      "version": "3.8"
    }
  },
  "nbformat_minor": 5,
  "nbformat": 4,
  "cells": [
    {
      "id": "7ee713b6-07de-4d90-b423-475bf732f7b0",
      "cell_type": "code",
      "source": "class File:\n    def __init__ (self, filename, method):\n        self.file = open (filename, method)\n\n    def __enter__ (self):\n        print ('Enter Method is executed')\n        return self.file\n    \n    def __exit__ (self, type, value, traceback):\n        print (f'{type}, {value}, {traceback}')\n        print ('Exit method is executed')\n        self.file.close ()\n        # return True\n        if type == Exception:\n            return True\n        \nif __name__ == '__main__':\n    with File ('./file.txt', 'w') as f:\n        print ('Middle part is executed')\n        f.write ('Hello')\n        raise Exception ()",
      "metadata": {
        "trusted": true
      },
      "outputs": [],
      "execution_count": null
    },
    {
      "id": "6114e434-adf2-40ad-92eb-c25564f4084e",
      "cell_type": "code",
      "source": "class File:\n    def __init__ (self, filename, method):\n        self.file = open (filename, method)\n\n    def __enter__ (self):\n        print ('Enter Method is executed')\n        return self.file\n    \n    def __exit__ (self, type, value, traceback):\n        print (f'{type}, {value}, {traceback}')\n        print ('Exit method is executed')\n        self.file.close ()\n        # return True\n        if type == Exception:\n            return True\n        \nif __name__ == '__main__':\n    with File ('./file.txt', 'r') as f:\n        print ('Middle part is executed')\n        raise Exception ()",
      "metadata": {
        "trusted": true
      },
      "outputs": [],
      "execution_count": null
    },
    {
      "id": "af4db5a7-3fe7-4379-b43c-4db676021552",
      "cell_type": "code",
      "source": "class File:\n    def __init__ (self, filename, method):\n        self.file = open (filename, method)\n\n    def __enter__ (self):\n        print ('Enter Method is executed')\n        return self.file\n    \n    def __exit__ (self, type, value, traceback):\n        print (f'{type}, {value}, {traceback}')\n        print ('Exit method is executed')\n        self.file.close ()\n        # return True\n        if type == Exception:\n            return True\n        \nif __name__ == '__main__':\n    with File ('./file.txt', 'a') as f:\n        print ('Middle part is executed')\n        f.write ('GM')\n        raise Exception ()",
      "metadata": {
        "trusted": true
      },
      "outputs": [],
      "execution_count": null
    }
  ]
}